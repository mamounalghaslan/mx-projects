{
 "cells": [
  {
   "cell_type": "code",
   "id": "2965c846-d8d7-4920-932e-fb821c711479",
   "metadata": {
    "ExecuteTime": {
     "end_time": "2024-05-04T15:33:59.599582Z",
     "start_time": "2024-05-04T14:59:47.506381Z"
    }
   },
   "source": [
    "import shutil\n",
    "from pathlib import Path\n",
    "\n",
    "import numpy as np\n",
    "import pandas as pd\n",
    "from tqdm import tqdm\n",
    "\n",
    "from ultralytics.utils.downloads import download\n",
    "from ultralytics.utils.ops import xyxy2xywh\n",
    "\n",
    "# Download\n",
    "dir = Path('F:\\mx-projects\\shelf-products\\code\\model-training\\yolov8sku110k\\dataset')  # dataset root dir\n",
    "parent = Path(dir.parent)  # download dir\n",
    "urls = ['http://trax-geometry.s3.amazonaws.com/cvpr_challenge/SKU110K_fixed.tar.gz']\n",
    "download(urls, dir=parent)\n",
    "\n",
    "# Rename directories\n",
    "if dir.exists():\n",
    "  shutil.rmtree(dir)\n",
    "(parent / 'SKU110K_fixed').rename(dir)  # rename dir\n",
    "(dir / 'labels').mkdir(parents=True, exist_ok=True)  # create labels dir\n",
    "\n",
    "# Convert labels\n",
    "names = 'image', 'x1', 'y1', 'x2', 'y2', 'class', 'image_width', 'image_height'  # column names\n",
    "for d in 'annotations_train.csv', 'annotations_val.csv', 'annotations_test.csv':\n",
    "  x = pd.read_csv(dir / 'annotations' / d, names=names).values  # annotations\n",
    "  images, unique_images = x[:, 0], np.unique(x[:, 0])\n",
    "  with open((dir / d).with_suffix('.txt').__str__().replace('annotations_', ''), 'w') as f:\n",
    "      f.writelines(f'./images/{s}\\n' for s in unique_images)\n",
    "  for im in tqdm(unique_images, desc=f'Converting {dir / d}'):\n",
    "      cls = 0  # single-class dataset\n",
    "      with open((dir / 'labels' / im).with_suffix('.txt'), 'a') as f:\n",
    "          for r in x[images == im]:\n",
    "              w, h = r[6], r[7]  # image width, height\n",
    "              xywh = xyxy2xywh(np.array([[r[1] / w, r[2] / h, r[3] / w, r[4] / h]]))[0]  # instance\n",
    "              f.write(f\"{cls} {xywh[0]:.5f} {xywh[1]:.5f} {xywh[2]:.5f} {xywh[3]:.5f}\\n\")  # write label"
   ],
   "outputs": [
    {
     "name": "stdout",
     "output_type": "stream",
     "text": [
      "Downloading http://trax-geometry.s3.amazonaws.com/cvpr_challenge/SKU110K_fixed.tar.gz to 'F:\\mx-projects\\shelf-products\\code\\model-training\\yolov8sku110k\\SKU110K_fixed.tar.gz'...\n"
     ]
    },
    {
     "name": "stderr",
     "output_type": "stream",
     "text": [
      " 10%|█         | 1.19G/11.4G [34:09<4:52:48, 622kB/s]  \n"
     ]
    },
    {
     "ename": "KeyboardInterrupt",
     "evalue": "",
     "output_type": "error",
     "traceback": [
      "\u001B[1;31m---------------------------------------------------------------------------\u001B[0m",
      "\u001B[1;31mKeyboardInterrupt\u001B[0m                         Traceback (most recent call last)",
      "Cell \u001B[1;32mIn[3], line 15\u001B[0m\n\u001B[0;32m     13\u001B[0m parent \u001B[38;5;241m=\u001B[39m Path(\u001B[38;5;28mdir\u001B[39m\u001B[38;5;241m.\u001B[39mparent)  \u001B[38;5;66;03m# download dir\u001B[39;00m\n\u001B[0;32m     14\u001B[0m urls \u001B[38;5;241m=\u001B[39m [\u001B[38;5;124m'\u001B[39m\u001B[38;5;124mhttp://trax-geometry.s3.amazonaws.com/cvpr_challenge/SKU110K_fixed.tar.gz\u001B[39m\u001B[38;5;124m'\u001B[39m]\n\u001B[1;32m---> 15\u001B[0m \u001B[43mdownload\u001B[49m\u001B[43m(\u001B[49m\u001B[43murls\u001B[49m\u001B[43m,\u001B[49m\u001B[43m \u001B[49m\u001B[38;5;28;43mdir\u001B[39;49m\u001B[38;5;241;43m=\u001B[39;49m\u001B[43mparent\u001B[49m\u001B[43m)\u001B[49m\n\u001B[0;32m     17\u001B[0m \u001B[38;5;66;03m# Rename directories\u001B[39;00m\n\u001B[0;32m     18\u001B[0m \u001B[38;5;28;01mif\u001B[39;00m \u001B[38;5;28mdir\u001B[39m\u001B[38;5;241m.\u001B[39mexists():\n",
      "File \u001B[1;32mF:\\anaconda3\\lib\\site-packages\\ultralytics\\utils\\downloads.py:500\u001B[0m, in \u001B[0;36mdownload\u001B[1;34m(url, dir, unzip, delete, curl, threads, retry, exist_ok)\u001B[0m\n\u001B[0;32m    498\u001B[0m \u001B[38;5;28;01melse\u001B[39;00m:\n\u001B[0;32m    499\u001B[0m     \u001B[38;5;28;01mfor\u001B[39;00m u \u001B[38;5;129;01min\u001B[39;00m [url] \u001B[38;5;28;01mif\u001B[39;00m \u001B[38;5;28misinstance\u001B[39m(url, (\u001B[38;5;28mstr\u001B[39m, Path)) \u001B[38;5;28;01melse\u001B[39;00m url:\n\u001B[1;32m--> 500\u001B[0m         \u001B[43msafe_download\u001B[49m\u001B[43m(\u001B[49m\u001B[43murl\u001B[49m\u001B[38;5;241;43m=\u001B[39;49m\u001B[43mu\u001B[49m\u001B[43m,\u001B[49m\u001B[43m \u001B[49m\u001B[38;5;28;43mdir\u001B[39;49m\u001B[38;5;241;43m=\u001B[39;49m\u001B[38;5;28;43mdir\u001B[39;49m\u001B[43m,\u001B[49m\u001B[43m \u001B[49m\u001B[43munzip\u001B[49m\u001B[38;5;241;43m=\u001B[39;49m\u001B[43munzip\u001B[49m\u001B[43m,\u001B[49m\u001B[43m \u001B[49m\u001B[43mdelete\u001B[49m\u001B[38;5;241;43m=\u001B[39;49m\u001B[43mdelete\u001B[49m\u001B[43m,\u001B[49m\u001B[43m \u001B[49m\u001B[43mcurl\u001B[49m\u001B[38;5;241;43m=\u001B[39;49m\u001B[43mcurl\u001B[49m\u001B[43m,\u001B[49m\u001B[43m \u001B[49m\u001B[43mretry\u001B[49m\u001B[38;5;241;43m=\u001B[39;49m\u001B[43mretry\u001B[49m\u001B[43m,\u001B[49m\u001B[43m \u001B[49m\u001B[43mexist_ok\u001B[49m\u001B[38;5;241;43m=\u001B[39;49m\u001B[43mexist_ok\u001B[49m\u001B[43m)\u001B[49m\n",
      "File \u001B[1;32mF:\\anaconda3\\lib\\site-packages\\ultralytics\\utils\\downloads.py:333\u001B[0m, in \u001B[0;36msafe_download\u001B[1;34m(url, file, dir, unzip, delete, curl, retry, min_bytes, exist_ok, progress)\u001B[0m\n\u001B[0;32m    331\u001B[0m method \u001B[38;5;241m=\u001B[39m \u001B[38;5;124m\"\u001B[39m\u001B[38;5;124mtorch\u001B[39m\u001B[38;5;124m\"\u001B[39m\n\u001B[0;32m    332\u001B[0m \u001B[38;5;28;01mif\u001B[39;00m method \u001B[38;5;241m==\u001B[39m \u001B[38;5;124m\"\u001B[39m\u001B[38;5;124mtorch\u001B[39m\u001B[38;5;124m\"\u001B[39m:\n\u001B[1;32m--> 333\u001B[0m     \u001B[43mtorch\u001B[49m\u001B[38;5;241;43m.\u001B[39;49m\u001B[43mhub\u001B[49m\u001B[38;5;241;43m.\u001B[39;49m\u001B[43mdownload_url_to_file\u001B[49m\u001B[43m(\u001B[49m\u001B[43murl\u001B[49m\u001B[43m,\u001B[49m\u001B[43m \u001B[49m\u001B[43mf\u001B[49m\u001B[43m,\u001B[49m\u001B[43m \u001B[49m\u001B[43mprogress\u001B[49m\u001B[38;5;241;43m=\u001B[39;49m\u001B[43mprogress\u001B[49m\u001B[43m)\u001B[49m\n\u001B[0;32m    334\u001B[0m \u001B[38;5;28;01melse\u001B[39;00m:\n\u001B[0;32m    335\u001B[0m     \u001B[38;5;28;01mwith\u001B[39;00m request\u001B[38;5;241m.\u001B[39murlopen(url) \u001B[38;5;28;01mas\u001B[39;00m response, TQDM(\n\u001B[0;32m    336\u001B[0m         total\u001B[38;5;241m=\u001B[39m\u001B[38;5;28mint\u001B[39m(response\u001B[38;5;241m.\u001B[39mgetheader(\u001B[38;5;124m\"\u001B[39m\u001B[38;5;124mContent-Length\u001B[39m\u001B[38;5;124m\"\u001B[39m, \u001B[38;5;241m0\u001B[39m)),\n\u001B[0;32m    337\u001B[0m         desc\u001B[38;5;241m=\u001B[39mdesc,\n\u001B[1;32m   (...)\u001B[0m\n\u001B[0;32m    341\u001B[0m         unit_divisor\u001B[38;5;241m=\u001B[39m\u001B[38;5;241m1024\u001B[39m,\n\u001B[0;32m    342\u001B[0m     ) \u001B[38;5;28;01mas\u001B[39;00m pbar:\n",
      "File \u001B[1;32mF:\\anaconda3\\lib\\site-packages\\torch\\hub.py:653\u001B[0m, in \u001B[0;36mdownload_url_to_file\u001B[1;34m(url, dst, hash_prefix, progress)\u001B[0m\n\u001B[0;32m    650\u001B[0m \u001B[38;5;28;01mwith\u001B[39;00m tqdm(total\u001B[38;5;241m=\u001B[39mfile_size, disable\u001B[38;5;241m=\u001B[39m\u001B[38;5;129;01mnot\u001B[39;00m progress,\n\u001B[0;32m    651\u001B[0m           unit\u001B[38;5;241m=\u001B[39m\u001B[38;5;124m'\u001B[39m\u001B[38;5;124mB\u001B[39m\u001B[38;5;124m'\u001B[39m, unit_scale\u001B[38;5;241m=\u001B[39m\u001B[38;5;28;01mTrue\u001B[39;00m, unit_divisor\u001B[38;5;241m=\u001B[39m\u001B[38;5;241m1024\u001B[39m) \u001B[38;5;28;01mas\u001B[39;00m pbar:\n\u001B[0;32m    652\u001B[0m     \u001B[38;5;28;01mwhile\u001B[39;00m \u001B[38;5;28;01mTrue\u001B[39;00m:\n\u001B[1;32m--> 653\u001B[0m         buffer \u001B[38;5;241m=\u001B[39m \u001B[43mu\u001B[49m\u001B[38;5;241;43m.\u001B[39;49m\u001B[43mread\u001B[49m\u001B[43m(\u001B[49m\u001B[43mREAD_DATA_CHUNK\u001B[49m\u001B[43m)\u001B[49m\n\u001B[0;32m    654\u001B[0m         \u001B[38;5;28;01mif\u001B[39;00m \u001B[38;5;28mlen\u001B[39m(buffer) \u001B[38;5;241m==\u001B[39m \u001B[38;5;241m0\u001B[39m:\n\u001B[0;32m    655\u001B[0m             \u001B[38;5;28;01mbreak\u001B[39;00m\n",
      "File \u001B[1;32mF:\\anaconda3\\lib\\http\\client.py:466\u001B[0m, in \u001B[0;36mHTTPResponse.read\u001B[1;34m(self, amt)\u001B[0m\n\u001B[0;32m    463\u001B[0m \u001B[38;5;28;01mif\u001B[39;00m \u001B[38;5;28mself\u001B[39m\u001B[38;5;241m.\u001B[39mlength \u001B[38;5;129;01mis\u001B[39;00m \u001B[38;5;129;01mnot\u001B[39;00m \u001B[38;5;28;01mNone\u001B[39;00m \u001B[38;5;129;01mand\u001B[39;00m amt \u001B[38;5;241m>\u001B[39m \u001B[38;5;28mself\u001B[39m\u001B[38;5;241m.\u001B[39mlength:\n\u001B[0;32m    464\u001B[0m     \u001B[38;5;66;03m# clip the read to the \"end of response\"\u001B[39;00m\n\u001B[0;32m    465\u001B[0m     amt \u001B[38;5;241m=\u001B[39m \u001B[38;5;28mself\u001B[39m\u001B[38;5;241m.\u001B[39mlength\n\u001B[1;32m--> 466\u001B[0m s \u001B[38;5;241m=\u001B[39m \u001B[38;5;28;43mself\u001B[39;49m\u001B[38;5;241;43m.\u001B[39;49m\u001B[43mfp\u001B[49m\u001B[38;5;241;43m.\u001B[39;49m\u001B[43mread\u001B[49m\u001B[43m(\u001B[49m\u001B[43mamt\u001B[49m\u001B[43m)\u001B[49m\n\u001B[0;32m    467\u001B[0m \u001B[38;5;28;01mif\u001B[39;00m \u001B[38;5;129;01mnot\u001B[39;00m s \u001B[38;5;129;01mand\u001B[39;00m amt:\n\u001B[0;32m    468\u001B[0m     \u001B[38;5;66;03m# Ideally, we would raise IncompleteRead if the content-length\u001B[39;00m\n\u001B[0;32m    469\u001B[0m     \u001B[38;5;66;03m# wasn't satisfied, but it might break compatibility.\u001B[39;00m\n\u001B[0;32m    470\u001B[0m     \u001B[38;5;28mself\u001B[39m\u001B[38;5;241m.\u001B[39m_close_conn()\n",
      "File \u001B[1;32mF:\\anaconda3\\lib\\socket.py:705\u001B[0m, in \u001B[0;36mSocketIO.readinto\u001B[1;34m(self, b)\u001B[0m\n\u001B[0;32m    703\u001B[0m \u001B[38;5;28;01mwhile\u001B[39;00m \u001B[38;5;28;01mTrue\u001B[39;00m:\n\u001B[0;32m    704\u001B[0m     \u001B[38;5;28;01mtry\u001B[39;00m:\n\u001B[1;32m--> 705\u001B[0m         \u001B[38;5;28;01mreturn\u001B[39;00m \u001B[38;5;28;43mself\u001B[39;49m\u001B[38;5;241;43m.\u001B[39;49m\u001B[43m_sock\u001B[49m\u001B[38;5;241;43m.\u001B[39;49m\u001B[43mrecv_into\u001B[49m\u001B[43m(\u001B[49m\u001B[43mb\u001B[49m\u001B[43m)\u001B[49m\n\u001B[0;32m    706\u001B[0m     \u001B[38;5;28;01mexcept\u001B[39;00m timeout:\n\u001B[0;32m    707\u001B[0m         \u001B[38;5;28mself\u001B[39m\u001B[38;5;241m.\u001B[39m_timeout_occurred \u001B[38;5;241m=\u001B[39m \u001B[38;5;28;01mTrue\u001B[39;00m\n",
      "\u001B[1;31mKeyboardInterrupt\u001B[0m: "
     ]
    }
   ],
   "execution_count": 3
  },
  {
   "metadata": {},
   "cell_type": "code",
   "outputs": [],
   "execution_count": null,
   "source": "",
   "id": "fa5c5ce8e6a92d8"
  }
 ],
 "metadata": {
  "kernelspec": {
   "display_name": "Python 3 (ipykernel)",
   "language": "python",
   "name": "python3"
  },
  "language_info": {
   "codemirror_mode": {
    "name": "ipython",
    "version": 3
   },
   "file_extension": ".py",
   "mimetype": "text/x-python",
   "name": "python",
   "nbconvert_exporter": "python",
   "pygments_lexer": "ipython3",
   "version": "3.9.16"
  }
 },
 "nbformat": 4,
 "nbformat_minor": 5
}
