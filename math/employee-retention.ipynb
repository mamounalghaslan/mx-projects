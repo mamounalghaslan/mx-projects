{
 "cells": [
  {
   "cell_type": "markdown",
   "source": [
    "# Employee Retention\n",
    "\n",
    "There are always people starting new jobs and retiring, and some move between jobs. Talent retention is imperative for organizational success, therefore understanding employee behavior is key to sustaining a good economy.\n",
    "Kaggle Employee dataset contains information about employees in a company, including their educational backgrounds, work history, demographics, and employment-related factors, which has been anonymized to protect privacy while still providing valuable insights into the workforce.\n",
    "https://www.kaggle.com/datasets/tawfikelmetwally/employee-dataset/data\n",
    "\n",
    "This dataset contains 8 features:\n",
    "1. **Education**: Level of Education(Bachelors, Masters and PHD)\n",
    "2. **Joining year**: The year of joining\n",
    "3. **City**: To which city the employee belongs to\n",
    "4. **PaymentTier**: Salary Tiers\n",
    "5. **Age**: The age of the Employee\n",
    "6. **Gender**: Male and Female\n",
    "7. **EverBenched**: Everbenched (yes or no)\n",
    "8. **experience in current domain**: Employee experience in terms of years\n",
    "\n",
    "The target column is **Leave or Not** which is a binary column (0 or 1)\n",
    "\n",
    "The following code snippet shows the first 10 rows of the dataset."
   ],
   "metadata": {
    "collapsed": false
   },
   "id": "3502e56bd5a88ff"
  },
  {
   "cell_type": "code",
   "execution_count": 25,
   "outputs": [
    {
     "name": "stdout",
     "output_type": "stream",
     "text": [
      "Index(['Education', 'JoiningYear', 'City', 'PaymentTier', 'Age', 'Gender',\n",
      "       'EverBenched', 'ExperienceInCurrentDomain', 'LeaveOrNot'],\n",
      "      dtype='object')\n",
      "(4653, 9)\n",
      "<class 'pandas.core.frame.DataFrame'>\n",
      "RangeIndex: 4653 entries, 0 to 4652\n",
      "Data columns (total 9 columns):\n",
      " #   Column                     Non-Null Count  Dtype \n",
      "---  ------                     --------------  ----- \n",
      " 0   Education                  4653 non-null   object\n",
      " 1   JoiningYear                4653 non-null   int64 \n",
      " 2   City                       4653 non-null   object\n",
      " 3   PaymentTier                4653 non-null   int64 \n",
      " 4   Age                        4653 non-null   int64 \n",
      " 5   Gender                     4653 non-null   object\n",
      " 6   EverBenched                4653 non-null   object\n",
      " 7   ExperienceInCurrentDomain  4653 non-null   int64 \n",
      " 8   LeaveOrNot                 4653 non-null   int64 \n",
      "dtypes: int64(5), object(4)\n",
      "memory usage: 327.3+ KB\n"
     ]
    },
    {
     "data": {
      "text/plain": "   Education  JoiningYear       City  PaymentTier  Age  Gender EverBenched  \\\n0  Bachelors         2017  Bangalore            3   34    Male          No   \n1  Bachelors         2013       Pune            1   28  Female          No   \n2  Bachelors         2014  New Delhi            3   38  Female          No   \n3    Masters         2016  Bangalore            3   27    Male          No   \n4    Masters         2017       Pune            3   24    Male         Yes   \n5  Bachelors         2016  Bangalore            3   22    Male          No   \n6  Bachelors         2015  New Delhi            3   38    Male          No   \n7  Bachelors         2016  Bangalore            3   34  Female          No   \n8  Bachelors         2016       Pune            3   23    Male          No   \n9    Masters         2017  New Delhi            2   37    Male          No   \n\n   ExperienceInCurrentDomain  LeaveOrNot  \n0                          0           0  \n1                          3           1  \n2                          2           0  \n3                          5           1  \n4                          2           1  \n5                          0           0  \n6                          0           0  \n7                          2           1  \n8                          1           0  \n9                          2           0  ",
      "text/html": "<div>\n<style scoped>\n    .dataframe tbody tr th:only-of-type {\n        vertical-align: middle;\n    }\n\n    .dataframe tbody tr th {\n        vertical-align: top;\n    }\n\n    .dataframe thead th {\n        text-align: right;\n    }\n</style>\n<table border=\"1\" class=\"dataframe\">\n  <thead>\n    <tr style=\"text-align: right;\">\n      <th></th>\n      <th>Education</th>\n      <th>JoiningYear</th>\n      <th>City</th>\n      <th>PaymentTier</th>\n      <th>Age</th>\n      <th>Gender</th>\n      <th>EverBenched</th>\n      <th>ExperienceInCurrentDomain</th>\n      <th>LeaveOrNot</th>\n    </tr>\n  </thead>\n  <tbody>\n    <tr>\n      <th>0</th>\n      <td>Bachelors</td>\n      <td>2017</td>\n      <td>Bangalore</td>\n      <td>3</td>\n      <td>34</td>\n      <td>Male</td>\n      <td>No</td>\n      <td>0</td>\n      <td>0</td>\n    </tr>\n    <tr>\n      <th>1</th>\n      <td>Bachelors</td>\n      <td>2013</td>\n      <td>Pune</td>\n      <td>1</td>\n      <td>28</td>\n      <td>Female</td>\n      <td>No</td>\n      <td>3</td>\n      <td>1</td>\n    </tr>\n    <tr>\n      <th>2</th>\n      <td>Bachelors</td>\n      <td>2014</td>\n      <td>New Delhi</td>\n      <td>3</td>\n      <td>38</td>\n      <td>Female</td>\n      <td>No</td>\n      <td>2</td>\n      <td>0</td>\n    </tr>\n    <tr>\n      <th>3</th>\n      <td>Masters</td>\n      <td>2016</td>\n      <td>Bangalore</td>\n      <td>3</td>\n      <td>27</td>\n      <td>Male</td>\n      <td>No</td>\n      <td>5</td>\n      <td>1</td>\n    </tr>\n    <tr>\n      <th>4</th>\n      <td>Masters</td>\n      <td>2017</td>\n      <td>Pune</td>\n      <td>3</td>\n      <td>24</td>\n      <td>Male</td>\n      <td>Yes</td>\n      <td>2</td>\n      <td>1</td>\n    </tr>\n    <tr>\n      <th>5</th>\n      <td>Bachelors</td>\n      <td>2016</td>\n      <td>Bangalore</td>\n      <td>3</td>\n      <td>22</td>\n      <td>Male</td>\n      <td>No</td>\n      <td>0</td>\n      <td>0</td>\n    </tr>\n    <tr>\n      <th>6</th>\n      <td>Bachelors</td>\n      <td>2015</td>\n      <td>New Delhi</td>\n      <td>3</td>\n      <td>38</td>\n      <td>Male</td>\n      <td>No</td>\n      <td>0</td>\n      <td>0</td>\n    </tr>\n    <tr>\n      <th>7</th>\n      <td>Bachelors</td>\n      <td>2016</td>\n      <td>Bangalore</td>\n      <td>3</td>\n      <td>34</td>\n      <td>Female</td>\n      <td>No</td>\n      <td>2</td>\n      <td>1</td>\n    </tr>\n    <tr>\n      <th>8</th>\n      <td>Bachelors</td>\n      <td>2016</td>\n      <td>Pune</td>\n      <td>3</td>\n      <td>23</td>\n      <td>Male</td>\n      <td>No</td>\n      <td>1</td>\n      <td>0</td>\n    </tr>\n    <tr>\n      <th>9</th>\n      <td>Masters</td>\n      <td>2017</td>\n      <td>New Delhi</td>\n      <td>2</td>\n      <td>37</td>\n      <td>Male</td>\n      <td>No</td>\n      <td>2</td>\n      <td>0</td>\n    </tr>\n  </tbody>\n</table>\n</div>"
     },
     "execution_count": 25,
     "metadata": {},
     "output_type": "execute_result"
    }
   ],
   "source": [
    "# Libraries\n",
    "import pandas as pd\n",
    "\n",
    "# Load the dataset\n",
    "df = pd.read_csv('.\\data\\Employee.csv')\n",
    "\n",
    "print(df.columns)\n",
    "print(df.shape)\n",
    "\n",
    "df.info()\n",
    "\n",
    "df.head(10)"
   ],
   "metadata": {
    "collapsed": false,
    "ExecuteTime": {
     "end_time": "2023-11-29T14:05:15.792264300Z",
     "start_time": "2023-11-29T14:05:15.696299800Z"
    }
   },
   "id": "892c33cffc755445"
  },
  {
   "cell_type": "markdown",
   "source": [
    "## Phase 1: Problem understanding\n",
    "\n",
    "In the initial phase of our proposed data science project, our aim is to gain a deep understanding of the problem and define clear and structured objectives. This step is important to avoid solving the wrong problems. The following are the key steps and considerations.\n",
    "1.\t**Clearly Enunciate the Project Objectives**:\n",
    "a.\tAnalyze the distribution of educational qualifications among employees.\n",
    "b.\tInvestigate the length of service vary across different cities.\n",
    "c.\tExplore the correlation between Payment Tier and Experience in Current Domain.\n",
    "d.\tDetermine gender distribution within the employees.\n",
    "e.\tIdentify patterns in leave-taking behavior among employees.\n",
    "2.\t**Formulate the problem**: Convert the project objectives into a problem that can be solved using data science.\n"
   ],
   "metadata": {
    "collapsed": false
   },
   "id": "6373632119951f46"
  },
  {
   "cell_type": "markdown",
   "source": [
    "## Phase 2: Data preparation\n",
    "\n",
    "In this stage, we will prepare the data to ensure it is clean, consistent, and free from errors for analysis. The following are some potential problems that we will investigate.\n",
    "1. **Identify Outliers**: Outliers are data points that significantly deviate from the rest of the data. Depending on the nature of the data and the problem we are solving, we will decide on a technique for handling those outliers. While removing them might be the simple and easy way, transforming them, or treating them as special cases might derive important insights.\n",
    "2. **Data Transformation and Standardization**: Some attributes might be of different scales. Thus, standardization is useful in this case.\n",
    "3. **Reclassifying Categorical Variables**: Identify any categorical variables that need to be transformed or processed to make them suitable for analysis or modeling.\n",
    "4. **Binning Numerical Variables**: Determine whether it is valuable to bin or categorize numerical variables, which uncover patterns that might not be visible with continuous data.\n",
    "5. **Adding an Index Field**: Based on the dataset, it might be useful to add an index field for each employee, which makes it easier to track records.\n",
    "6. **Handling Missing Data**: Determine a strategy to handle missing values, which may involve replacing them with estimated values or removing records with missing values.\n"
   ],
   "metadata": {
    "collapsed": false
   },
   "id": "91d2d823cf3c2838"
  },
  {
   "cell_type": "markdown",
   "source": [
    "### Data Cleaning"
   ],
   "metadata": {
    "collapsed": false
   },
   "id": "86f029546276e822"
  },
  {
   "cell_type": "code",
   "execution_count": 26,
   "outputs": [
    {
     "name": "stdout",
     "output_type": "stream",
     "text": [
      "Education                    0\n",
      "JoiningYear                  0\n",
      "City                         0\n",
      "PaymentTier                  0\n",
      "Age                          0\n",
      "Gender                       0\n",
      "EverBenched                  0\n",
      "ExperienceInCurrentDomain    0\n",
      "LeaveOrNot                   0\n",
      "dtype: int64\n",
      "Education                    4653\n",
      "JoiningYear                  4653\n",
      "City                         4653\n",
      "PaymentTier                  4653\n",
      "Age                          4653\n",
      "Gender                       4653\n",
      "EverBenched                  4653\n",
      "ExperienceInCurrentDomain    4653\n",
      "LeaveOrNot                   4653\n",
      "dtype: int64\n"
     ]
    }
   ],
   "source": [
    "print(df.isnull().sum())\n",
    "print(df.apply(len))"
   ],
   "metadata": {
    "collapsed": false,
    "ExecuteTime": {
     "end_time": "2023-11-29T14:05:15.793294Z",
     "start_time": "2023-11-29T14:05:15.722458300Z"
    }
   },
   "id": "79c7009c0222ee6c"
  },
  {
   "cell_type": "markdown",
   "source": [
    "### Basic Statistics"
   ],
   "metadata": {
    "collapsed": false
   },
   "id": "37d0ae2a78ec2c88"
  },
  {
   "cell_type": "code",
   "execution_count": 27,
   "outputs": [
    {
     "data": {
      "text/plain": "       JoiningYear  PaymentTier          Age  ExperienceInCurrentDomain  \\\ncount  4653.000000  4653.000000  4653.000000                4653.000000   \nmean   2015.062970     2.698259    29.393295                   2.905652   \nstd       1.863377     0.561435     4.826087                   1.558240   \nmin    2012.000000     1.000000    22.000000                   0.000000   \n25%    2013.000000     3.000000    26.000000                   2.000000   \n50%    2015.000000     3.000000    28.000000                   3.000000   \n75%    2017.000000     3.000000    32.000000                   4.000000   \nmax    2018.000000     3.000000    41.000000                   7.000000   \n\n        LeaveOrNot  \ncount  4653.000000  \nmean      0.343864  \nstd       0.475047  \nmin       0.000000  \n25%       0.000000  \n50%       0.000000  \n75%       1.000000  \nmax       1.000000  ",
      "text/html": "<div>\n<style scoped>\n    .dataframe tbody tr th:only-of-type {\n        vertical-align: middle;\n    }\n\n    .dataframe tbody tr th {\n        vertical-align: top;\n    }\n\n    .dataframe thead th {\n        text-align: right;\n    }\n</style>\n<table border=\"1\" class=\"dataframe\">\n  <thead>\n    <tr style=\"text-align: right;\">\n      <th></th>\n      <th>JoiningYear</th>\n      <th>PaymentTier</th>\n      <th>Age</th>\n      <th>ExperienceInCurrentDomain</th>\n      <th>LeaveOrNot</th>\n    </tr>\n  </thead>\n  <tbody>\n    <tr>\n      <th>count</th>\n      <td>4653.000000</td>\n      <td>4653.000000</td>\n      <td>4653.000000</td>\n      <td>4653.000000</td>\n      <td>4653.000000</td>\n    </tr>\n    <tr>\n      <th>mean</th>\n      <td>2015.062970</td>\n      <td>2.698259</td>\n      <td>29.393295</td>\n      <td>2.905652</td>\n      <td>0.343864</td>\n    </tr>\n    <tr>\n      <th>std</th>\n      <td>1.863377</td>\n      <td>0.561435</td>\n      <td>4.826087</td>\n      <td>1.558240</td>\n      <td>0.475047</td>\n    </tr>\n    <tr>\n      <th>min</th>\n      <td>2012.000000</td>\n      <td>1.000000</td>\n      <td>22.000000</td>\n      <td>0.000000</td>\n      <td>0.000000</td>\n    </tr>\n    <tr>\n      <th>25%</th>\n      <td>2013.000000</td>\n      <td>3.000000</td>\n      <td>26.000000</td>\n      <td>2.000000</td>\n      <td>0.000000</td>\n    </tr>\n    <tr>\n      <th>50%</th>\n      <td>2015.000000</td>\n      <td>3.000000</td>\n      <td>28.000000</td>\n      <td>3.000000</td>\n      <td>0.000000</td>\n    </tr>\n    <tr>\n      <th>75%</th>\n      <td>2017.000000</td>\n      <td>3.000000</td>\n      <td>32.000000</td>\n      <td>4.000000</td>\n      <td>1.000000</td>\n    </tr>\n    <tr>\n      <th>max</th>\n      <td>2018.000000</td>\n      <td>3.000000</td>\n      <td>41.000000</td>\n      <td>7.000000</td>\n      <td>1.000000</td>\n    </tr>\n  </tbody>\n</table>\n</div>"
     },
     "execution_count": 27,
     "metadata": {},
     "output_type": "execute_result"
    }
   ],
   "source": [
    "df.describe()"
   ],
   "metadata": {
    "collapsed": false,
    "ExecuteTime": {
     "end_time": "2023-11-29T14:05:15.821542600Z",
     "start_time": "2023-11-29T14:05:15.738628700Z"
    }
   },
   "id": "c4f44c856de80ab"
  },
  {
   "cell_type": "markdown",
   "source": [
    "## Phase 3: Exploratory data analysis\n",
    "\n",
    "The goal in this stage is to gain preliminary insight into the data by utilizing graphical exploration. This stage is useful to uncover patterns and visualize relationships among variables. The following are some common steps to do EDA.\n",
    "1. **Explore Univariate Relationships**: Identify relationships between predictors and the target variable “Leave or Not”\n",
    "2. **Explore Multivariate Relationships**: Identify correlations between multiple attributes.\n",
    "3. **Binning for Predictive Value Improvement**: Determine whether binning based on predictive value could enhance the model performance. For example, we can group employees by years of experience to analyze how it’s related to taking leave.\n",
    "4. **Derive New Variables**: Combine existing attributes to create new ones, which can provide additional information.\n"
   ],
   "metadata": {
    "collapsed": false
   },
   "id": "2a7dcd5633350605"
  },
  {
   "cell_type": "markdown",
   "source": [
    "## Phase 4: Setup\n",
    "\n",
    "At this stage, we will have explored the data enough to understand the problem and the dataset, and we need to prepare it to be fed into the potential models by:\n",
    "1. **Separating the data into train and test sets to be used for validation**: depending on how many records the dataset has.\n",
    "2. **Balancing the dataset**: If any of the target column classes are not represented equally, we will apply any of the up-sampling or weighting techniques\n",
    "3. **Establishing baseline model performance**: defining the minimum performance accepted for any of the used models.\n"
   ],
   "metadata": {
    "collapsed": false
   },
   "id": "297e87a6f7f67094"
  },
  {
   "cell_type": "markdown",
   "source": [
    "## Phase 5: Modeling\n",
    "\n",
    "Now the dataset is set and ready, we will feed it to different algorithms/models to uncover the relationships between the columns and target. In this phase, we need to:\n",
    "1. **Selecting and implementing algorithms/models**: At least three classification models\n",
    "2. **Making sure we meet the baseline performance**: each model must surpass the baseline otherwise will be dropped\n",
    "3. **Fine-tuning model algorithms**: to achieve the best possible scores for the classification\n"
   ],
   "metadata": {
    "collapsed": false
   },
   "id": "30a3501173d05668"
  },
  {
   "cell_type": "markdown",
   "source": [
    "## Phase 6: Evaluation\n",
    "\n",
    "In this phase, the testing portion will be used to determine if any of the models are good and select the best performing one based on the following:\n",
    "1. Making sure it achieves the objectives from stage 1\n",
    "2. Applying error analysis and determining best cost\n",
    "3. Finalizing the selection of models that will be deployed\n"
   ],
   "metadata": {
    "collapsed": false
   },
   "id": "b08f197da31981"
  },
  {
   "cell_type": "markdown",
   "source": [
    "## Phase 7: Deployment\n",
    "\n",
    "In this stage, we will deploy the application to production and make it available for use by others. Also, we will finalize our findings in the format of a publication paper, documenting all the seven stages and the exact numbers for all models’ performance."
   ],
   "metadata": {
    "collapsed": false
   },
   "id": "9cbcbf06c51d9f4e"
  },
  {
   "cell_type": "markdown",
   "source": [],
   "metadata": {
    "collapsed": false
   },
   "id": "a2dcea2ce01b29cb"
  },
  {
   "cell_type": "code",
   "execution_count": 27,
   "id": "initial_id",
   "metadata": {
    "collapsed": true,
    "ExecuteTime": {
     "end_time": "2023-11-29T14:05:15.858474800Z",
     "start_time": "2023-11-29T14:05:15.770750500Z"
    }
   },
   "outputs": [],
   "source": []
  }
 ],
 "metadata": {
  "kernelspec": {
   "display_name": "Python 3",
   "language": "python",
   "name": "python3"
  },
  "language_info": {
   "codemirror_mode": {
    "name": "ipython",
    "version": 2
   },
   "file_extension": ".py",
   "mimetype": "text/x-python",
   "name": "python",
   "nbconvert_exporter": "python",
   "pygments_lexer": "ipython2",
   "version": "2.7.6"
  }
 },
 "nbformat": 4,
 "nbformat_minor": 5
}
